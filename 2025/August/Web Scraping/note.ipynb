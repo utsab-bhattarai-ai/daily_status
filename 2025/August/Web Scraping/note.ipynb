{
 "cells": [
  {
   "cell_type": "markdown",
   "id": "9e7192c4",
   "metadata": {},
   "source": [
    "# Web Scraping"
   ]
  },
  {
   "cell_type": "markdown",
   "id": "a792cf68",
   "metadata": {},
   "source": [
    "## Introduction"
   ]
  },
  {
   "cell_type": "markdown",
   "id": "aec06d2a",
   "metadata": {},
   "source": [
    "### Definition"
   ]
  },
  {
   "cell_type": "markdown",
   "id": "f62ec1b5",
   "metadata": {},
   "source": [
    "Web scraping is the process of automatically extracting data from websites."
   ]
  },
  {
   "cell_type": "markdown",
   "id": "1eaebb27",
   "metadata": {},
   "source": [
    "### Why important in Data Science?"
   ]
  },
  {
   "cell_type": "markdown",
   "id": "964f757c",
   "metadata": {},
   "source": [
    "- Collect raw data for analysis (reviews, prices, news, research, etc.)\n",
    "- Build datasets where APIs are not available\n",
    "- Automate repetitive data collection"
   ]
  },
  {
   "cell_type": "markdown",
   "id": "a29bcd2a",
   "metadata": {},
   "source": [
    "## How Web Scraping Works"
   ]
  },
  {
   "cell_type": "markdown",
   "id": "a87289d0",
   "metadata": {},
   "source": [
    "- Send HTTP request to a web server (using tools like requests).\n",
    "- Receive the response (usually HTML or JSON).\n",
    "- Parse the response to extract meaningful data (using `BeautifulSoup`, `lxml`, or `regex`).\n",
    "- Store the data in CSV, JSON, or a database."
   ]
  },
  {
   "cell_type": "markdown",
   "id": "b89fd518",
   "metadata": {},
   "source": [
    "## Key Python Libraries"
   ]
  },
  {
   "cell_type": "markdown",
   "id": "9aa80719",
   "metadata": {},
   "source": [
    "- requests → Fetch HTML pages from websites.\n",
    "- BeautifulSoup4 (bs4) → Parse and navigate HTML/XML.\n",
    "- lxml → Fast HTML/XML parser.\n",
    "- selenium → Automate browsers for dynamic (JavaScript) websites.\n",
    "- pandas → Store and analyze structured data.\n",
    "- re (regex) → Pattern matching in text."
   ]
  },
  {
   "cell_type": "markdown",
   "id": "19f0d62a",
   "metadata": {},
   "source": [
    "## Basic Workflow"
   ]
  },
  {
   "cell_type": "code",
   "execution_count": 3,
   "id": "ac096dea",
   "metadata": {},
   "outputs": [
    {
     "name": "stdout",
     "output_type": "stream",
     "text": [
      "Example Domain ['https://www.iana.org/domains/example']\n"
     ]
    }
   ],
   "source": [
    "import requests\n",
    "from bs4 import BeautifulSoup\n",
    "\n",
    "# Step 1: Request the page\n",
    "url = \"https://example.com\"\n",
    "headers = {\"User-Agent\": \"Mozilla/5.0\"}\n",
    "response = requests.get(url, headers=headers)\n",
    "\n",
    "# Step 2: Parse HTML\n",
    "soup = BeautifulSoup(response.text, \"lxml\")\n",
    "\n",
    "# Step 3: Extract data\n",
    "title = soup.title.text\n",
    "links = [a['href'] for a in soup.find_all(\"a\", href=True)]\n",
    "\n",
    "print(title, links)"
   ]
  },
  {
   "cell_type": "markdown",
   "id": "6f76031f",
   "metadata": {},
   "source": [
    "## Extracting Data"
   ]
  },
  {
   "cell_type": "markdown",
   "id": "3ae4f71f",
   "metadata": {},
   "source": [
    "- Tags: `soup.find(\"h1\")`, `soup.find_all(\"p\")`\n",
    "- Attributes: `element[\"src\"]`, `element.get(\"href\")`\n",
    "- CSS selectors: `soup.select(\"div.article h2\")`"
   ]
  },
  {
   "cell_type": "markdown",
   "id": "bd37c711",
   "metadata": {},
   "source": [
    "## Handling Tables"
   ]
  },
  {
   "cell_type": "markdown",
   "id": "0b484a63",
   "metadata": {},
   "source": [
    "`import pandas as pd`\n",
    "\n",
    "`df = pd.read_html(response.text)[0]`"
   ]
  },
  {
   "cell_type": "markdown",
   "id": "53d3baf4",
   "metadata": {},
   "source": [
    "## Dynamic Websites"
   ]
  },
  {
   "cell_type": "markdown",
   "id": "0c1fdcca",
   "metadata": {},
   "source": [
    "- Many sites use JavaScript to load data.\n",
    "- Use:\n",
    "    - selenium → Automates a browser to wait for content to load.\n",
    "    - requests_html / playwright → For JavaScript rendering.\n",
    "    - Or directly hit the API endpoint (preferred if available)."
   ]
  },
  {
   "cell_type": "markdown",
   "id": "3cce9423",
   "metadata": {},
   "source": [
    "## Storing Scraped Data"
   ]
  },
  {
   "cell_type": "markdown",
   "id": "0d36350a",
   "metadata": {},
   "source": [
    "- CSV: `df.to_csv(\"output.csv\", index=False)`\n",
    "- JSON: `json.dump(data, f)`\n",
    "- Database: `sqlite3`, `SQLAlchemy`, or `MongoDB`."
   ]
  },
  {
   "cell_type": "markdown",
   "id": "94d01ee3",
   "metadata": {},
   "source": [
    "## Ethical & Legal Considerations"
   ]
  },
  {
   "cell_type": "markdown",
   "id": "851cb2f4",
   "metadata": {},
   "source": [
    "- Check robots.txt before scraping (`https://example.com/robots.txt`).\n",
    "- Do not overload servers → use `time.sleep()` or rate limiting.\n",
    "- Respect copyright and terms of service.\n",
    "- Prefer official APIs when available."
   ]
  },
  {
   "cell_type": "markdown",
   "id": "ed49c96d",
   "metadata": {},
   "source": [
    "## Challenges in Web Scraping"
   ]
  },
  {
   "cell_type": "markdown",
   "id": "59c77d1f",
   "metadata": {},
   "source": [
    "- Dynamic content (needs JavaScript rendering).\n",
    "- Captcha / Anti-bot systems.\n",
    "- Frequent site changes (your scraper may break).\n",
    "- IP blocking (solution: proxies, rotating headers)."
   ]
  },
  {
   "cell_type": "markdown",
   "id": "2bc0030d",
   "metadata": {},
   "source": [
    "# ✅ Summary:"
   ]
  },
  {
   "cell_type": "markdown",
   "id": "619fcf22",
   "metadata": {},
   "source": [
    "Web scraping is a critical data collection skill in data science. The workflow involves **requesting → parsing → extracting → storing** data. Use `requests + BeautifulSoup` for static sites, and `selenium` or API calls for dynamic sites. Always respect ethics and legality."
   ]
  }
 ],
 "metadata": {
  "kernelspec": {
   "display_name": "base",
   "language": "python",
   "name": "python3"
  },
  "language_info": {
   "codemirror_mode": {
    "name": "ipython",
    "version": 3
   },
   "file_extension": ".py",
   "mimetype": "text/x-python",
   "name": "python",
   "nbconvert_exporter": "python",
   "pygments_lexer": "ipython3",
   "version": "3.12.7"
  }
 },
 "nbformat": 4,
 "nbformat_minor": 5
}
